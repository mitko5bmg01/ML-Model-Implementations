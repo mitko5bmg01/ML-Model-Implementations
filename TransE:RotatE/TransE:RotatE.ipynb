{
 "nbformat": 4,
 "nbformat_minor": 0,
 "metadata": {
  "colab": {
   "provenance": []
  },
  "kernelspec": {
   "name": "python3",
   "display_name": "Python 3"
  },
  "language_info": {
   "name": "python"
  }
 },
 "cells": [
  {
   "cell_type": "code",
   "execution_count": 2,
   "metadata": {
    "colab": {
     "base_uri": "https://localhost:8080/"
    },
    "id": "cvTAis1sQAUr",
    "outputId": "53953c2a-3979-4b02-f7bf-5ffd16ac70fe",
    "collapsed": true
   },
   "outputs": [
    {
     "output_type": "stream",
     "name": "stdout",
     "text": [
      "\u001B[2K     \u001B[90m━━━━━━━━━━━━━━━━━━━━━━━━━━━━━━━━━━━━━━━━\u001B[0m \u001B[32m83.8/83.8 kB\u001B[0m \u001B[31m2.6 MB/s\u001B[0m eta \u001B[36m0:00:00\u001B[0m\n",
      "\u001B[2K   \u001B[90m━━━━━━━━━━━━━━━━━━━━━━━━━━━━━━━━━━━━━━━━\u001B[0m \u001B[32m704.0/704.0 kB\u001B[0m \u001B[31m15.7 MB/s\u001B[0m eta \u001B[36m0:00:00\u001B[0m\n",
      "\u001B[2K   \u001B[90m━━━━━━━━━━━━━━━━━━━━━━━━━━━━━━━━━━━━━━━━\u001B[0m \u001B[32m362.8/362.8 kB\u001B[0m \u001B[31m21.2 MB/s\u001B[0m eta \u001B[36m0:00:00\u001B[0m\n",
      "\u001B[2K   \u001B[90m━━━━━━━━━━━━━━━━━━━━━━━━━━━━━━━━━━━━━━━━\u001B[0m \u001B[32m233.2/233.2 kB\u001B[0m \u001B[31m16.6 MB/s\u001B[0m eta \u001B[36m0:00:00\u001B[0m\n",
      "\u001B[2K   \u001B[90m━━━━━━━━━━━━━━━━━━━━━━━━━━━━━━━━━━━━━━━━\u001B[0m \u001B[32m49.3/49.3 kB\u001B[0m \u001B[31m3.3 MB/s\u001B[0m eta \u001B[36m0:00:00\u001B[0m\n",
      "\u001B[2K   \u001B[90m━━━━━━━━━━━━━━━━━━━━━━━━━━━━━━━━━━━━━━━━\u001B[0m \u001B[32m78.6/78.6 kB\u001B[0m \u001B[31m5.3 MB/s\u001B[0m eta \u001B[36m0:00:00\u001B[0m\n",
      "\u001B[?25h"
     ]
    },
    {
     "output_type": "stream",
     "name": "stderr",
     "text": [
      "INFO:pykeen.utils:Using opt_einsum\n"
     ]
    }
   ],
   "source": [
    "import numpy as np\n",
    "import pandas as pd\n",
    "import torch\n",
    "import torch.nn as nn\n",
    "from torch.utils.data import Dataset, DataLoader\n",
    "import matplotlib.pyplot as plt\n",
    "from tqdm import tqdm\n",
    "\n",
    "! pip install -q pykeen\n",
    "from pykeen.datasets import Nations"
   ]
  },
  {
   "cell_type": "code",
   "source": [
    "config = {\n",
    "    'model_name': 'RotatE',   # options are TransE or RotatE\n",
    "    'num_entities': 14,\n",
    "    'num_relations': 55,\n",
    "    'num_corrupted_head': 64,\n",
    "    'num_corrupted_tail': 64,\n",
    "    'hidden_dim': 128,\n",
    "    'batch_size': 16,\n",
    "    'num_workers': 2,\n",
    "    'num_epochs': 100,\n",
    "    'lr': 2 * 1e-3,\n",
    "    'gamma': 2.0,\n",
    "}"
   ],
   "metadata": {
    "id": "j7hAoSIntFwE"
   },
   "execution_count": 3,
   "outputs": []
  },
  {
   "cell_type": "code",
   "source": [
    "dataset = Nations()\n",
    "\n",
    "num_entities = dataset.num_entities\n",
    "num_relations = dataset.num_relations\n",
    "\n",
    "train_triples = dataset.training.mapped_triples\n",
    "val_triples = dataset.validation.mapped_triples\n",
    "test_triples = dataset.testing.mapped_triples\n",
    "\n",
    "print(train_triples)"
   ],
   "metadata": {
    "colab": {
     "base_uri": "https://localhost:8080/"
    },
    "id": "GUu1xSh-Qxv2",
    "outputId": "156e2359-112e-4027-b5cf-5a03e6bfa44a"
   },
   "execution_count": 4,
   "outputs": [
    {
     "output_type": "stream",
     "name": "stdout",
     "text": [
      "tensor([[ 0,  3,  2],\n",
      "        [ 0,  3,  3],\n",
      "        [ 0,  3, 10],\n",
      "        ...,\n",
      "        [13, 54,  9],\n",
      "        [13, 54, 11],\n",
      "        [13, 54, 12]])\n"
     ]
    }
   ]
  },
  {
   "cell_type": "code",
   "source": [
    "def generate_negative_relations(positive_relation, all_positive_relations,\n",
    "                               all_entities_num, eval_only,\n",
    "                               num_corrupted_tail=None, num_corrupted_head=None):\n",
    "    head = positive_relation[0]\n",
    "    rel = positive_relation[1]\n",
    "    tail = positive_relation[2]\n",
    "\n",
    "    # find all tails t for which (head, rel, t) is in all_positive_relations\n",
    "    positive_tails = all_positive_relations[\n",
    "        torch.bitwise_and(\n",
    "            all_positive_relations[:, 1] == rel,\\\n",
    "            all_positive_relations[:, 0] == head\n",
    "        )\n",
    "    ][:, 2]\n",
    "\n",
    "    # find all heads h for which (h, rel, tail) is in all_positive_relations\n",
    "    positive_heads = all_positive_relations[\n",
    "        torch.bitwise_and(\n",
    "            all_positive_relations[:, 1] == rel,\\\n",
    "            all_positive_relations[:, 2] == tail\n",
    "        )\n",
    "    ][:, 0]\n",
    "\n",
    "    all_entities = torch.arange(all_entities_num)\n",
    "\n",
    "    mask_tails = torch.zeros(all_entities_num, dtype=torch.bool)\n",
    "    mask_tails[positive_tails] = True\n",
    "    # find all tails t for which (head, rel, t) is NOT in all_positive_relations\n",
    "    missing_tails = all_entities[~mask_tails]\n",
    "\n",
    "    mask_heads = torch.zeros(all_entities_num, dtype=torch.bool)\n",
    "    mask_heads[positive_heads] = True\n",
    "    # find all heads h for which (h, rel, tail) is NOT in all_positive_relations\n",
    "    missing_heads = all_entities[~mask_heads]\n",
    "\n",
    "    # form corrupted relations\n",
    "    # if eval_only we want all of them triples\n",
    "    # otherwise we just want a sample of given size\n",
    "    if eval_only:\n",
    "        corrupted_tail_data = torch.zeros(missing_tails.shape[0], 3, dtype=torch.int)\n",
    "        corrupted_tail_data[:, 0:2] = positive_relation[0:2]\n",
    "        corrupted_tail_data[:, 2] = missing_tails\n",
    "\n",
    "        corrupted_head_data = torch.zeros(missing_heads.shape[0], 3, dtype=torch.int)\n",
    "        corrupted_head_data[:, 1:3] = positive_relation[1:3]\n",
    "        corrupted_head_data[:, 0] = missing_heads\n",
    "\n",
    "    else:\n",
    "        # sample (with replacement) from missing_tails and missing_heads\n",
    "        sampled_tails = missing_tails[\n",
    "            torch.randint(missing_tails.shape[0], size=(num_corrupted_tail,))\n",
    "        ]\n",
    "        sampled_heads = missing_heads[\n",
    "            torch.randint(missing_heads.shape[0], size=(num_corrupted_head,))\n",
    "        ]\n",
    "\n",
    "        corrupted_tail_data = torch.zeros(num_corrupted_tail, 3, dtype=torch.int)\n",
    "        corrupted_tail_data[:, 0:2] = positive_relation[0:2]\n",
    "        corrupted_tail_data[:, 2] = sampled_tails\n",
    "\n",
    "        corrupted_head_data = torch.zeros(num_corrupted_head, 3, dtype=torch.int)\n",
    "        corrupted_head_data[:, 1:3] = positive_relation[1:3]\n",
    "        corrupted_head_data[:, 0] = sampled_heads\n",
    "\n",
    "    return corrupted_tail_data, corrupted_head_data\n",
    "\n",
    "\n",
    "corrupted_tail_data, corrupted_head_data = generate_negative_relations(\n",
    "    train_triples[0], train_triples, config['num_entities'], 3, 3\n",
    ")\n",
    "\n",
    "print(train_triples[0], end='\\n\\n')\n",
    "print(corrupted_tail_data, end='\\n\\n')\n",
    "print(corrupted_head_data)"
   ],
   "metadata": {
    "colab": {
     "base_uri": "https://localhost:8080/"
    },
    "id": "Xm7y_fVtRzVt",
    "outputId": "ca5c1e8f-324b-4129-dbe8-4aade2f3e32e"
   },
   "execution_count": 5,
   "outputs": [
    {
     "output_type": "stream",
     "name": "stdout",
     "text": [
      "tensor([0, 3, 2])\n",
      "\n",
      "tensor([[ 0,  3,  0],\n",
      "        [ 0,  3,  1],\n",
      "        [ 0,  3,  4],\n",
      "        [ 0,  3,  5],\n",
      "        [ 0,  3,  6],\n",
      "        [ 0,  3,  7],\n",
      "        [ 0,  3,  8],\n",
      "        [ 0,  3,  9],\n",
      "        [ 0,  3, 11],\n",
      "        [ 0,  3, 12]], dtype=torch.int32)\n",
      "\n",
      "tensor([[ 1,  3,  2],\n",
      "        [ 2,  3,  2],\n",
      "        [ 3,  3,  2],\n",
      "        [ 4,  3,  2],\n",
      "        [ 5,  3,  2],\n",
      "        [ 6,  3,  2],\n",
      "        [ 7,  3,  2],\n",
      "        [ 8,  3,  2],\n",
      "        [10,  3,  2],\n",
      "        [13,  3,  2]], dtype=torch.int32)\n"
     ]
    }
   ]
  },
  {
   "cell_type": "code",
   "source": [
    "# this dataset takes positive_triples and all_known_positive_triples to be able to\n",
    "# distinguish between the cases of train, validation and test\n",
    "\n",
    "# train (train_data, train_data)\n",
    "# val   (val_data, train_data U val_data)\n",
    "# test  (test_data, train_data U val_data U test_data)\n",
    "\n",
    "class CustomDataset(Dataset):\n",
    "    def __init__(self, positive_triples, all_known_positive_triples, eval_only=False):\n",
    "        self.positive_triples = positive_triples\n",
    "        self.all_known_positive_triples = all_known_positive_triples\n",
    "        self.eval_only = eval_only\n",
    "\n",
    "    def __len__(self):\n",
    "        return self.positive_triples.shape[0]\n",
    "\n",
    "    def __getitem__(self, idx):\n",
    "        current_triple = self.positive_triples[idx]\n",
    "\n",
    "        if self.eval_only:\n",
    "            corrupted_tail_rels, corrupted_head_rels = collect_negative_relations(\n",
    "                current_triple, self.all_known_positive_triples,\n",
    "                config['num_entities'], self.eval_only\n",
    "            )\n",
    "        else:\n",
    "            corrupted_tail_rels, corrupted_head_rels = collect_negative_relations(\n",
    "                current_triple, self.all_known_positive_triples,\n",
    "                config['num_entities'], self.eval_only,\n",
    "                config['num_corrupted_tail'], config['num_corrupted_head']\n",
    "            )\n",
    "\n",
    "        return current_triple, corrupted_tail_rels, corrupted_head_rels"
   ],
   "metadata": {
    "id": "f8Zdh1Uh17N9"
   },
   "execution_count": 19,
   "outputs": []
  },
  {
   "cell_type": "code",
   "source": [
    "train_data = CustomDataset(train_triples, train_triples)\n",
    "\n",
    "val_data = CustomDataset(val_triples,\n",
    "                         torch.cat([train_triples, val_triples]),\n",
    "                         eval_only=True)\n",
    "\n",
    "test_data = CustomDataset(test_triples,\n",
    "                          torch.cat([train_triples, val_triples, test_triples]),\n",
    "                          eval_only=True)\n",
    "\n",
    "\n",
    "train_loader = DataLoader(train_data, batch_size=config['batch_size'],\n",
    "                          num_workers=config['num_workers'], shuffle=True,\n",
    "                          drop_last=True)"
   ],
   "metadata": {
    "id": "fZdQYuL22EXG"
   },
   "execution_count": 20,
   "outputs": []
  },
  {
   "cell_type": "code",
   "source": [
    "class RelationScorer(nn.Module):\n",
    "    def __init__(self, hidden_dim, model_name, num_entities, num_relations):\n",
    "        super(RelationScorer, self).__init__()\n",
    "\n",
    "        self.model_name = model_name\n",
    "\n",
    "        if model_name == 'TransE':\n",
    "            self.entity_embedder = nn.Embedding(num_entities, hidden_dim)\n",
    "            self.relation_embedder = nn.Embedding(num_relations, hidden_dim)\n",
    "        else:\n",
    "            self.entity_embedder = nn.Embedding(num_entities, 2 * hidden_dim)\n",
    "            self.relation_embedder = nn.Embedding(num_relations, 2 * hidden_dim)\n",
    "\n",
    "    def forward(self, x):\n",
    "        heads = self.entity_embedder(x[:, 0])\n",
    "        rels = self.relation_embedder(x[:, 1])\n",
    "        tails = self.entity_embedder(x[:, 2])\n",
    "\n",
    "        if self.model_name == 'TransE':\n",
    "            return torch.norm(heads + rels - tails, dim=1)\n",
    "        elif self.model_name == 'RotatE':\n",
    "            heads_complex = torch.view_as_complex(heads.view(heads.shape[0], -1, 2))\n",
    "            rels_complex = torch.view_as_complex(rels.view(rels.shape[0], -1, 2))\n",
    "            tails_complex = torch.view_as_complex(tails.view(tails.shape[0], -1, 2))\n",
    "\n",
    "            return torch.norm(heads_complex * rels_complex - tails_complex, dim=1)\n",
    "        else:\n",
    "            raise Exception(\"Invalid Model or Model not Supported.\")"
   ],
   "metadata": {
    "id": "pDVgM4Leko3n"
   },
   "execution_count": 21,
   "outputs": []
  },
  {
   "cell_type": "code",
   "source": [
    "device = 'cuda' if torch.cuda.is_available() else 'cpu'\n",
    "\n",
    "model = RelationScorer(\n",
    "    config['hidden_dim'], config['model_name'],\n",
    "    config['num_entities'], config['num_relations']\n",
    ").to(device)\n",
    "\n",
    "optimizer = torch.optim.Adam(model.parameters(), lr=config['lr'])\n",
    "# lr_scheduler = torch.optim.lr_scheduler.CosineAnnealingLR(optimizer, config['num_epochs'])"
   ],
   "metadata": {
    "id": "HhA77qhfPF4H"
   },
   "execution_count": 22,
   "outputs": []
  },
  {
   "cell_type": "code",
   "source": [
    "train_losses = []; valid_mean_ranks = []\n",
    "\n",
    "for epoch in range(config['num_epochs']):\n",
    "    model.train()\n",
    "\n",
    "    losses = []\n",
    "    for true_data, corrupted_tail_data, corrupted_head_data in tqdm(train_loader):\n",
    "        true_data = true_data.to(device)\n",
    "        false_data = torch.cat([corrupted_tail_data, corrupted_head_data])\n",
    "        false_data = false_data.to(device)\n",
    "\n",
    "        optimizer.zero_grad()\n",
    "\n",
    "        # dissimilarities in true and fake data\n",
    "        true_data_scores = model(true_data)\n",
    "        false_data_scores = model(false_data.view(-1, 3)).view(config['batch_size'], -1)\n",
    "\n",
    "        # loss function components (as in the RotatE paper)\n",
    "        true_losses = -torch.log(torch.sigmoid(config['gamma'] - true_data_scores))\n",
    "        false_losses = -torch.mean(torch.log(torch.sigmoid(false_data_scores - config['gamma'])), dim=1)\n",
    "\n",
    "        loss = torch.mean(true_losses + false_losses)\n",
    "\n",
    "        loss.backward()\n",
    "        optimizer.step()\n",
    "\n",
    "        losses.append(loss.item())\n",
    "\n",
    "    # lr_scheduler.step()\n",
    "\n",
    "    mean_loss = np.mean(losses)\n",
    "    print(f'Epoch {epoch}:\\nTrain Loss:', mean_loss)\n",
    "    train_losses.append(mean_loss)\n",
    "\n",
    "    model.eval()\n",
    "\n",
    "    ranks = []\n",
    "    for true_data, corrupted_tail_data, corrupted_head_data in val_data:\n",
    "        true_data = true_data.unsqueeze(0).to(device)\n",
    "        corrupted_tail_data = corrupted_tail_data.unsqueeze(0).to(device)\n",
    "        corrupted_head_data = corrupted_head_data.unsqueeze(0).to(device)\n",
    "\n",
    "        true_data_score = model(true_data)\n",
    "        corrupted_tail_data_scores = model(corrupted_tail_data.view(-1, 3)).view(1, -1)\n",
    "        corrupted_head_data_scores = model(corrupted_head_data.view(-1, 3)).view(1, -1)\n",
    "\n",
    "        rank_corrupted_tail = torch.sum(corrupted_tail_data_scores < true_data_score.item())\n",
    "        rank_corrupted_head = torch.sum(corrupted_head_data_scores < true_data_score.item())\n",
    "\n",
    "        rank = (rank_corrupted_tail + rank_corrupted_head) / (corrupted_tail_data_scores.shape[1] + corrupted_head_data_scores.shape[1])\n",
    "        ranks.append(rank)\n",
    "\n",
    "        # print(rank_corrupted_tail, rank_corrupted_head,\n",
    "        #       corrupted_tail_data_scores.shape[1], corrupted_head_data_scores.shape[1])\n",
    "\n",
    "    mean_rank = np.mean(ranks)\n",
    "    print(f'Validation Accuracy: {mean_rank}')\n",
    "    valid_mean_ranks.append(mean_rank)"
   ],
   "metadata": {
    "colab": {
     "base_uri": "https://localhost:8080/"
    },
    "id": "Eq8i5zJTjnU9",
    "outputId": "aa203dd2-8a68-477b-f261-f8fc77610cdf"
   },
   "execution_count": 23,
   "outputs": [
    {
     "output_type": "stream",
     "name": "stderr",
     "text": [
      "100%|██████████| 99/99 [00:02<00:00, 35.63it/s]\n"
     ]
    },
    {
     "output_type": "stream",
     "name": "stdout",
     "text": [
      "Epoch 0:\n",
      "Train Loss: 23.669351269500424\n",
      "Validation Accuracy: 0.498736709356308\n"
     ]
    },
    {
     "output_type": "stream",
     "name": "stderr",
     "text": [
      "100%|██████████| 99/99 [00:02<00:00, 33.23it/s]\n"
     ]
    },
    {
     "output_type": "stream",
     "name": "stdout",
     "text": [
      "Epoch 1:\n",
      "Train Loss: 19.997859126389628\n",
      "Validation Accuracy: 0.48076334595680237\n"
     ]
    },
    {
     "output_type": "stream",
     "name": "stderr",
     "text": [
      "100%|██████████| 99/99 [00:02<00:00, 34.46it/s]\n"
     ]
    },
    {
     "output_type": "stream",
     "name": "stdout",
     "text": [
      "Epoch 2:\n",
      "Train Loss: 16.803761540037215\n",
      "Validation Accuracy: 0.4576553702354431\n"
     ]
    },
    {
     "output_type": "stream",
     "name": "stderr",
     "text": [
      "100%|██████████| 99/99 [00:04<00:00, 23.51it/s]\n"
     ]
    },
    {
     "output_type": "stream",
     "name": "stdout",
     "text": [
      "Epoch 3:\n",
      "Train Loss: 14.020036456560847\n",
      "Validation Accuracy: 0.4361986219882965\n"
     ]
    },
    {
     "output_type": "stream",
     "name": "stderr",
     "text": [
      "100%|██████████| 99/99 [00:02<00:00, 34.64it/s]\n"
     ]
    },
    {
     "output_type": "stream",
     "name": "stdout",
     "text": [
      "Epoch 4:\n",
      "Train Loss: 11.57324868019181\n",
      "Validation Accuracy: 0.4139484167098999\n"
     ]
    },
    {
     "output_type": "stream",
     "name": "stderr",
     "text": [
      "100%|██████████| 99/99 [00:02<00:00, 33.93it/s]\n"
     ]
    },
    {
     "output_type": "stream",
     "name": "stdout",
     "text": [
      "Epoch 5:\n",
      "Train Loss: 9.42211141489973\n",
      "Validation Accuracy: 0.405763179063797\n"
     ]
    },
    {
     "output_type": "stream",
     "name": "stderr",
     "text": [
      "100%|██████████| 99/99 [00:02<00:00, 33.94it/s]\n"
     ]
    },
    {
     "output_type": "stream",
     "name": "stdout",
     "text": [
      "Epoch 6:\n",
      "Train Loss: 7.527578320166077\n",
      "Validation Accuracy: 0.3948970139026642\n"
     ]
    },
    {
     "output_type": "stream",
     "name": "stderr",
     "text": [
      "100%|██████████| 99/99 [00:04<00:00, 23.60it/s]\n"
     ]
    },
    {
     "output_type": "stream",
     "name": "stdout",
     "text": [
      "Epoch 7:\n",
      "Train Loss: 5.86727681786123\n",
      "Validation Accuracy: 0.39225706458091736\n"
     ]
    },
    {
     "output_type": "stream",
     "name": "stderr",
     "text": [
      "100%|██████████| 99/99 [00:02<00:00, 35.16it/s]\n"
     ]
    },
    {
     "output_type": "stream",
     "name": "stdout",
     "text": [
      "Epoch 8:\n",
      "Train Loss: 4.441942496733232\n",
      "Validation Accuracy: 0.3896123170852661\n"
     ]
    },
    {
     "output_type": "stream",
     "name": "stderr",
     "text": [
      "100%|██████████| 99/99 [00:03<00:00, 32.16it/s]\n"
     ]
    },
    {
     "output_type": "stream",
     "name": "stdout",
     "text": [
      "Epoch 9:\n",
      "Train Loss: 3.2755841558629815\n",
      "Validation Accuracy: 0.38677719235420227\n"
     ]
    },
    {
     "output_type": "stream",
     "name": "stderr",
     "text": [
      "100%|██████████| 99/99 [00:02<00:00, 34.27it/s]\n"
     ]
    },
    {
     "output_type": "stream",
     "name": "stdout",
     "text": [
      "Epoch 10:\n",
      "Train Loss: 2.4248739914460615\n",
      "Validation Accuracy: 0.38487428426742554\n"
     ]
    },
    {
     "output_type": "stream",
     "name": "stderr",
     "text": [
      "100%|██████████| 99/99 [00:04<00:00, 24.15it/s]\n"
     ]
    },
    {
     "output_type": "stream",
     "name": "stdout",
     "text": [
      "Epoch 11:\n",
      "Train Loss: 1.8849120621729378\n",
      "Validation Accuracy: 0.3837931156158447\n"
     ]
    },
    {
     "output_type": "stream",
     "name": "stderr",
     "text": [
      "100%|██████████| 99/99 [00:02<00:00, 33.15it/s]\n"
     ]
    },
    {
     "output_type": "stream",
     "name": "stdout",
     "text": [
      "Epoch 12:\n",
      "Train Loss: 1.5934811047833375\n",
      "Validation Accuracy: 0.37963610887527466\n"
     ]
    },
    {
     "output_type": "stream",
     "name": "stderr",
     "text": [
      "100%|██████████| 99/99 [00:03<00:00, 32.54it/s]\n"
     ]
    },
    {
     "output_type": "stream",
     "name": "stdout",
     "text": [
      "Epoch 13:\n",
      "Train Loss: 1.4495785284524012\n",
      "Validation Accuracy: 0.36992526054382324\n"
     ]
    },
    {
     "output_type": "stream",
     "name": "stderr",
     "text": [
      "100%|██████████| 99/99 [00:03<00:00, 31.98it/s]\n"
     ]
    },
    {
     "output_type": "stream",
     "name": "stdout",
     "text": [
      "Epoch 14:\n",
      "Train Loss: 1.3802592898860122\n",
      "Validation Accuracy: 0.362804651260376\n"
     ]
    },
    {
     "output_type": "stream",
     "name": "stderr",
     "text": [
      "100%|██████████| 99/99 [00:04<00:00, 23.84it/s]\n"
     ]
    },
    {
     "output_type": "stream",
     "name": "stdout",
     "text": [
      "Epoch 15:\n",
      "Train Loss: 1.347391016555555\n",
      "Validation Accuracy: 0.35055679082870483\n"
     ]
    },
    {
     "output_type": "stream",
     "name": "stderr",
     "text": [
      "100%|██████████| 99/99 [00:02<00:00, 35.19it/s]\n"
     ]
    },
    {
     "output_type": "stream",
     "name": "stdout",
     "text": [
      "Epoch 16:\n",
      "Train Loss: 1.3283129123726276\n",
      "Validation Accuracy: 0.33603641390800476\n"
     ]
    },
    {
     "output_type": "stream",
     "name": "stderr",
     "text": [
      "100%|██████████| 99/99 [00:02<00:00, 33.91it/s]\n"
     ]
    },
    {
     "output_type": "stream",
     "name": "stdout",
     "text": [
      "Epoch 17:\n",
      "Train Loss: 1.3155127823954882\n",
      "Validation Accuracy: 0.329623281955719\n"
     ]
    },
    {
     "output_type": "stream",
     "name": "stderr",
     "text": [
      "100%|██████████| 99/99 [00:03<00:00, 32.54it/s]\n"
     ]
    },
    {
     "output_type": "stream",
     "name": "stdout",
     "text": [
      "Epoch 18:\n",
      "Train Loss: 1.305233440013847\n",
      "Validation Accuracy: 0.3263416290283203\n"
     ]
    },
    {
     "output_type": "stream",
     "name": "stderr",
     "text": [
      "100%|██████████| 99/99 [00:04<00:00, 24.70it/s]\n"
     ]
    },
    {
     "output_type": "stream",
     "name": "stdout",
     "text": [
      "Epoch 19:\n",
      "Train Loss: 1.2971883518527252\n",
      "Validation Accuracy: 0.32557597756385803\n"
     ]
    },
    {
     "output_type": "stream",
     "name": "stderr",
     "text": [
      "100%|██████████| 99/99 [00:02<00:00, 34.49it/s]\n"
     ]
    },
    {
     "output_type": "stream",
     "name": "stdout",
     "text": [
      "Epoch 20:\n",
      "Train Loss: 1.2888020734594325\n",
      "Validation Accuracy: 0.32190290093421936\n"
     ]
    },
    {
     "output_type": "stream",
     "name": "stderr",
     "text": [
      "100%|██████████| 99/99 [00:02<00:00, 35.92it/s]\n"
     ]
    },
    {
     "output_type": "stream",
     "name": "stdout",
     "text": [
      "Epoch 21:\n",
      "Train Loss: 1.2801876658141012\n",
      "Validation Accuracy: 0.3227616846561432\n"
     ]
    },
    {
     "output_type": "stream",
     "name": "stderr",
     "text": [
      "100%|██████████| 99/99 [00:03<00:00, 32.83it/s]\n"
     ]
    },
    {
     "output_type": "stream",
     "name": "stdout",
     "text": [
      "Epoch 22:\n",
      "Train Loss: 1.2737706092873005\n",
      "Validation Accuracy: 0.3199383020401001\n"
     ]
    },
    {
     "output_type": "stream",
     "name": "stderr",
     "text": [
      "100%|██████████| 99/99 [00:04<00:00, 24.67it/s]\n"
     ]
    },
    {
     "output_type": "stream",
     "name": "stdout",
     "text": [
      "Epoch 23:\n",
      "Train Loss: 1.2672665998189137\n",
      "Validation Accuracy: 0.31520795822143555\n"
     ]
    },
    {
     "output_type": "stream",
     "name": "stderr",
     "text": [
      "100%|██████████| 99/99 [00:02<00:00, 33.99it/s]\n"
     ]
    },
    {
     "output_type": "stream",
     "name": "stdout",
     "text": [
      "Epoch 24:\n",
      "Train Loss: 1.2602732904029614\n",
      "Validation Accuracy: 0.31510093808174133\n"
     ]
    },
    {
     "output_type": "stream",
     "name": "stderr",
     "text": [
      "100%|██████████| 99/99 [00:02<00:00, 33.01it/s]\n"
     ]
    },
    {
     "output_type": "stream",
     "name": "stdout",
     "text": [
      "Epoch 25:\n",
      "Train Loss: 1.2534657897371235\n",
      "Validation Accuracy: 0.31068143248558044\n"
     ]
    },
    {
     "output_type": "stream",
     "name": "stderr",
     "text": [
      "100%|██████████| 99/99 [00:03<00:00, 30.57it/s]\n"
     ]
    },
    {
     "output_type": "stream",
     "name": "stdout",
     "text": [
      "Epoch 26:\n",
      "Train Loss: 1.2471255148300018\n",
      "Validation Accuracy: 0.3038337230682373\n"
     ]
    },
    {
     "output_type": "stream",
     "name": "stderr",
     "text": [
      "100%|██████████| 99/99 [00:03<00:00, 24.76it/s]\n"
     ]
    },
    {
     "output_type": "stream",
     "name": "stdout",
     "text": [
      "Epoch 27:\n",
      "Train Loss: 1.240224920137964\n",
      "Validation Accuracy: 0.2998024523258209\n"
     ]
    },
    {
     "output_type": "stream",
     "name": "stderr",
     "text": [
      "100%|██████████| 99/99 [00:02<00:00, 35.08it/s]\n"
     ]
    },
    {
     "output_type": "stream",
     "name": "stdout",
     "text": [
      "Epoch 28:\n",
      "Train Loss: 1.234169724011662\n",
      "Validation Accuracy: 0.2973173260688782\n"
     ]
    },
    {
     "output_type": "stream",
     "name": "stderr",
     "text": [
      "100%|██████████| 99/99 [00:02<00:00, 34.10it/s]\n"
     ]
    },
    {
     "output_type": "stream",
     "name": "stdout",
     "text": [
      "Epoch 29:\n",
      "Train Loss: 1.2263062831127283\n",
      "Validation Accuracy: 0.2937813103199005\n"
     ]
    },
    {
     "output_type": "stream",
     "name": "stderr",
     "text": [
      "100%|██████████| 99/99 [00:03<00:00, 31.80it/s]\n"
     ]
    },
    {
     "output_type": "stream",
     "name": "stdout",
     "text": [
      "Epoch 30:\n",
      "Train Loss: 1.2194046853768705\n",
      "Validation Accuracy: 0.28627413511276245\n"
     ]
    },
    {
     "output_type": "stream",
     "name": "stderr",
     "text": [
      "100%|██████████| 99/99 [00:03<00:00, 24.78it/s]\n"
     ]
    },
    {
     "output_type": "stream",
     "name": "stdout",
     "text": [
      "Epoch 31:\n",
      "Train Loss: 1.212207530484055\n",
      "Validation Accuracy: 0.2815081477165222\n"
     ]
    },
    {
     "output_type": "stream",
     "name": "stderr",
     "text": [
      "100%|██████████| 99/99 [00:02<00:00, 35.47it/s]\n"
     ]
    },
    {
     "output_type": "stream",
     "name": "stdout",
     "text": [
      "Epoch 32:\n",
      "Train Loss: 1.2053144568144674\n",
      "Validation Accuracy: 0.2718845009803772\n"
     ]
    },
    {
     "output_type": "stream",
     "name": "stderr",
     "text": [
      "100%|██████████| 99/99 [00:02<00:00, 36.79it/s]\n"
     ]
    },
    {
     "output_type": "stream",
     "name": "stdout",
     "text": [
      "Epoch 33:\n",
      "Train Loss: 1.1982394372574006\n",
      "Validation Accuracy: 0.264174222946167\n"
     ]
    },
    {
     "output_type": "stream",
     "name": "stderr",
     "text": [
      "100%|██████████| 99/99 [00:03<00:00, 31.27it/s]\n"
     ]
    },
    {
     "output_type": "stream",
     "name": "stdout",
     "text": [
      "Epoch 34:\n",
      "Train Loss: 1.19203897437664\n",
      "Validation Accuracy: 0.26374906301498413\n"
     ]
    },
    {
     "output_type": "stream",
     "name": "stderr",
     "text": [
      "100%|██████████| 99/99 [00:03<00:00, 25.16it/s]\n"
     ]
    },
    {
     "output_type": "stream",
     "name": "stdout",
     "text": [
      "Epoch 35:\n",
      "Train Loss: 1.1856154986102172\n",
      "Validation Accuracy: 0.26146307587623596\n"
     ]
    },
    {
     "output_type": "stream",
     "name": "stderr",
     "text": [
      "100%|██████████| 99/99 [00:02<00:00, 36.00it/s]\n"
     ]
    },
    {
     "output_type": "stream",
     "name": "stdout",
     "text": [
      "Epoch 36:\n",
      "Train Loss: 1.180033727125688\n",
      "Validation Accuracy: 0.2566985785961151\n"
     ]
    },
    {
     "output_type": "stream",
     "name": "stderr",
     "text": [
      "100%|██████████| 99/99 [00:02<00:00, 34.27it/s]\n"
     ]
    },
    {
     "output_type": "stream",
     "name": "stdout",
     "text": [
      "Epoch 37:\n",
      "Train Loss: 1.1742231845855713\n",
      "Validation Accuracy: 0.2527514398097992\n"
     ]
    },
    {
     "output_type": "stream",
     "name": "stderr",
     "text": [
      "100%|██████████| 99/99 [00:02<00:00, 33.16it/s]\n"
     ]
    },
    {
     "output_type": "stream",
     "name": "stdout",
     "text": [
      "Epoch 38:\n",
      "Train Loss: 1.1695109954988114\n",
      "Validation Accuracy: 0.2540309727191925\n"
     ]
    },
    {
     "output_type": "stream",
     "name": "stderr",
     "text": [
      "100%|██████████| 99/99 [00:03<00:00, 25.03it/s]\n"
     ]
    },
    {
     "output_type": "stream",
     "name": "stdout",
     "text": [
      "Epoch 39:\n",
      "Train Loss: 1.1632765615829315\n",
      "Validation Accuracy: 0.24897056818008423\n"
     ]
    },
    {
     "output_type": "stream",
     "name": "stderr",
     "text": [
      "100%|██████████| 99/99 [00:02<00:00, 36.22it/s]\n"
     ]
    },
    {
     "output_type": "stream",
     "name": "stdout",
     "text": [
      "Epoch 40:\n",
      "Train Loss: 1.1589097880353831\n",
      "Validation Accuracy: 0.247223362326622\n"
     ]
    },
    {
     "output_type": "stream",
     "name": "stderr",
     "text": [
      "100%|██████████| 99/99 [00:02<00:00, 34.35it/s]\n"
     ]
    },
    {
     "output_type": "stream",
     "name": "stdout",
     "text": [
      "Epoch 41:\n",
      "Train Loss: 1.1537679758938877\n",
      "Validation Accuracy: 0.24021144211292267\n"
     ]
    },
    {
     "output_type": "stream",
     "name": "stderr",
     "text": [
      "100%|██████████| 99/99 [00:02<00:00, 34.85it/s]\n"
     ]
    },
    {
     "output_type": "stream",
     "name": "stdout",
     "text": [
      "Epoch 42:\n",
      "Train Loss: 1.1502099855981691\n",
      "Validation Accuracy: 0.2371251881122589\n"
     ]
    },
    {
     "output_type": "stream",
     "name": "stderr",
     "text": [
      "100%|██████████| 99/99 [00:04<00:00, 23.43it/s]\n"
     ]
    },
    {
     "output_type": "stream",
     "name": "stdout",
     "text": [
      "Epoch 43:\n",
      "Train Loss: 1.144876120066402\n",
      "Validation Accuracy: 0.23702393472194672\n"
     ]
    },
    {
     "output_type": "stream",
     "name": "stderr",
     "text": [
      "100%|██████████| 99/99 [00:02<00:00, 33.44it/s]\n"
     ]
    },
    {
     "output_type": "stream",
     "name": "stdout",
     "text": [
      "Epoch 44:\n",
      "Train Loss: 1.141941245156105\n",
      "Validation Accuracy: 0.23752158880233765\n"
     ]
    },
    {
     "output_type": "stream",
     "name": "stderr",
     "text": [
      "100%|██████████| 99/99 [00:03<00:00, 32.98it/s]\n"
     ]
    },
    {
     "output_type": "stream",
     "name": "stdout",
     "text": [
      "Epoch 45:\n",
      "Train Loss: 1.1383518365898517\n",
      "Validation Accuracy: 0.23709887266159058\n"
     ]
    },
    {
     "output_type": "stream",
     "name": "stderr",
     "text": [
      "100%|██████████| 99/99 [00:04<00:00, 20.91it/s]\n"
     ]
    },
    {
     "output_type": "stream",
     "name": "stdout",
     "text": [
      "Epoch 46:\n",
      "Train Loss: 1.1359750164879694\n",
      "Validation Accuracy: 0.23660588264465332\n"
     ]
    },
    {
     "output_type": "stream",
     "name": "stderr",
     "text": [
      "100%|██████████| 99/99 [00:04<00:00, 24.69it/s]\n"
     ]
    },
    {
     "output_type": "stream",
     "name": "stdout",
     "text": [
      "Epoch 47:\n",
      "Train Loss: 1.131666873440598\n",
      "Validation Accuracy: 0.23218148946762085\n"
     ]
    },
    {
     "output_type": "stream",
     "name": "stderr",
     "text": [
      "100%|██████████| 99/99 [00:02<00:00, 34.88it/s]\n"
     ]
    },
    {
     "output_type": "stream",
     "name": "stdout",
     "text": [
      "Epoch 48:\n",
      "Train Loss: 1.129346984805483\n",
      "Validation Accuracy: 0.22993777692317963\n"
     ]
    },
    {
     "output_type": "stream",
     "name": "stderr",
     "text": [
      "100%|██████████| 99/99 [00:02<00:00, 33.70it/s]\n"
     ]
    },
    {
     "output_type": "stream",
     "name": "stdout",
     "text": [
      "Epoch 49:\n",
      "Train Loss: 1.1268169843789302\n",
      "Validation Accuracy: 0.2310734987258911\n"
     ]
    },
    {
     "output_type": "stream",
     "name": "stderr",
     "text": [
      "100%|██████████| 99/99 [00:03<00:00, 31.08it/s]\n"
     ]
    },
    {
     "output_type": "stream",
     "name": "stdout",
     "text": [
      "Epoch 50:\n",
      "Train Loss: 1.1241784312508323\n",
      "Validation Accuracy: 0.2277110069990158\n"
     ]
    },
    {
     "output_type": "stream",
     "name": "stderr",
     "text": [
      "100%|██████████| 99/99 [00:03<00:00, 25.43it/s]\n"
     ]
    },
    {
     "output_type": "stream",
     "name": "stdout",
     "text": [
      "Epoch 51:\n",
      "Train Loss: 1.1205115227988272\n",
      "Validation Accuracy: 0.23183555901050568\n"
     ]
    },
    {
     "output_type": "stream",
     "name": "stderr",
     "text": [
      "100%|██████████| 99/99 [00:02<00:00, 33.12it/s]\n"
     ]
    },
    {
     "output_type": "stream",
     "name": "stdout",
     "text": [
      "Epoch 52:\n",
      "Train Loss: 1.1190133100808268\n",
      "Validation Accuracy: 0.2308674305677414\n"
     ]
    },
    {
     "output_type": "stream",
     "name": "stderr",
     "text": [
      "100%|██████████| 99/99 [00:02<00:00, 33.50it/s]\n"
     ]
    },
    {
     "output_type": "stream",
     "name": "stdout",
     "text": [
      "Epoch 53:\n",
      "Train Loss: 1.1175919241375394\n",
      "Validation Accuracy: 0.2298542559146881\n"
     ]
    },
    {
     "output_type": "stream",
     "name": "stderr",
     "text": [
      "100%|██████████| 99/99 [00:03<00:00, 30.26it/s]\n"
     ]
    },
    {
     "output_type": "stream",
     "name": "stdout",
     "text": [
      "Epoch 54:\n",
      "Train Loss: 1.1151352566902084\n",
      "Validation Accuracy: 0.22866438329219818\n"
     ]
    },
    {
     "output_type": "stream",
     "name": "stderr",
     "text": [
      "100%|██████████| 99/99 [00:03<00:00, 26.99it/s]\n"
     ]
    },
    {
     "output_type": "stream",
     "name": "stdout",
     "text": [
      "Epoch 55:\n",
      "Train Loss: 1.1135988434155781\n",
      "Validation Accuracy: 0.22922630608081818\n"
     ]
    },
    {
     "output_type": "stream",
     "name": "stderr",
     "text": [
      "100%|██████████| 99/99 [00:02<00:00, 33.85it/s]\n"
     ]
    },
    {
     "output_type": "stream",
     "name": "stdout",
     "text": [
      "Epoch 56:\n",
      "Train Loss: 1.11114163832231\n",
      "Validation Accuracy: 0.22841109335422516\n"
     ]
    },
    {
     "output_type": "stream",
     "name": "stderr",
     "text": [
      "100%|██████████| 99/99 [00:02<00:00, 33.63it/s]\n"
     ]
    },
    {
     "output_type": "stream",
     "name": "stdout",
     "text": [
      "Epoch 57:\n",
      "Train Loss: 1.109295524732031\n",
      "Validation Accuracy: 0.23188762366771698\n"
     ]
    },
    {
     "output_type": "stream",
     "name": "stderr",
     "text": [
      "100%|██████████| 99/99 [00:03<00:00, 28.62it/s]\n"
     ]
    },
    {
     "output_type": "stream",
     "name": "stdout",
     "text": [
      "Epoch 58:\n",
      "Train Loss: 1.1082961517150955\n",
      "Validation Accuracy: 0.23064875602722168\n"
     ]
    },
    {
     "output_type": "stream",
     "name": "stderr",
     "text": [
      "100%|██████████| 99/99 [00:04<00:00, 24.71it/s]\n"
     ]
    },
    {
     "output_type": "stream",
     "name": "stdout",
     "text": [
      "Epoch 59:\n",
      "Train Loss: 1.105595001066574\n",
      "Validation Accuracy: 0.23060953617095947\n"
     ]
    },
    {
     "output_type": "stream",
     "name": "stderr",
     "text": [
      "100%|██████████| 99/99 [00:03<00:00, 32.23it/s]\n"
     ]
    },
    {
     "output_type": "stream",
     "name": "stdout",
     "text": [
      "Epoch 60:\n",
      "Train Loss: 1.1046381719184644\n",
      "Validation Accuracy: 0.23071250319480896\n"
     ]
    },
    {
     "output_type": "stream",
     "name": "stderr",
     "text": [
      "100%|██████████| 99/99 [00:02<00:00, 33.29it/s]\n"
     ]
    },
    {
     "output_type": "stream",
     "name": "stdout",
     "text": [
      "Epoch 61:\n",
      "Train Loss: 1.10278960610881\n",
      "Validation Accuracy: 0.23065634071826935\n"
     ]
    },
    {
     "output_type": "stream",
     "name": "stderr",
     "text": [
      "100%|██████████| 99/99 [00:03<00:00, 24.76it/s]\n"
     ]
    },
    {
     "output_type": "stream",
     "name": "stdout",
     "text": [
      "Epoch 62:\n",
      "Train Loss: 1.1009813372534936\n",
      "Validation Accuracy: 0.23288995027542114\n"
     ]
    },
    {
     "output_type": "stream",
     "name": "stderr",
     "text": [
      "100%|██████████| 99/99 [00:03<00:00, 29.66it/s]\n"
     ]
    },
    {
     "output_type": "stream",
     "name": "stdout",
     "text": [
      "Epoch 63:\n",
      "Train Loss: 1.1006619984453374\n",
      "Validation Accuracy: 0.2305569052696228\n"
     ]
    },
    {
     "output_type": "stream",
     "name": "stderr",
     "text": [
      "100%|██████████| 99/99 [00:03<00:00, 32.07it/s]\n"
     ]
    },
    {
     "output_type": "stream",
     "name": "stdout",
     "text": [
      "Epoch 64:\n",
      "Train Loss: 1.0992107018075807\n",
      "Validation Accuracy: 0.22988565266132355\n"
     ]
    },
    {
     "output_type": "stream",
     "name": "stderr",
     "text": [
      "100%|██████████| 99/99 [00:03<00:00, 32.64it/s]\n"
     ]
    },
    {
     "output_type": "stream",
     "name": "stdout",
     "text": [
      "Epoch 65:\n",
      "Train Loss: 1.0982199124615601\n",
      "Validation Accuracy: 0.23008210957050323\n"
     ]
    },
    {
     "output_type": "stream",
     "name": "stderr",
     "text": [
      "100%|██████████| 99/99 [00:04<00:00, 22.64it/s]\n"
     ]
    },
    {
     "output_type": "stream",
     "name": "stdout",
     "text": [
      "Epoch 66:\n",
      "Train Loss: 1.0971590057768004\n",
      "Validation Accuracy: 0.2314363420009613\n"
     ]
    },
    {
     "output_type": "stream",
     "name": "stderr",
     "text": [
      "100%|██████████| 99/99 [00:03<00:00, 32.42it/s]\n"
     ]
    },
    {
     "output_type": "stream",
     "name": "stdout",
     "text": [
      "Epoch 67:\n",
      "Train Loss: 1.0947788670809582\n",
      "Validation Accuracy: 0.2285037785768509\n"
     ]
    },
    {
     "output_type": "stream",
     "name": "stderr",
     "text": [
      "100%|██████████| 99/99 [00:03<00:00, 30.60it/s]\n"
     ]
    },
    {
     "output_type": "stream",
     "name": "stdout",
     "text": [
      "Epoch 68:\n",
      "Train Loss: 1.0946169104238954\n",
      "Validation Accuracy: 0.22947868704795837\n"
     ]
    },
    {
     "output_type": "stream",
     "name": "stderr",
     "text": [
      "100%|██████████| 99/99 [00:03<00:00, 29.49it/s]\n"
     ]
    },
    {
     "output_type": "stream",
     "name": "stdout",
     "text": [
      "Epoch 69:\n",
      "Train Loss: 1.0927004230142845\n",
      "Validation Accuracy: 0.23015053570270538\n"
     ]
    },
    {
     "output_type": "stream",
     "name": "stderr",
     "text": [
      "100%|██████████| 99/99 [00:04<00:00, 22.93it/s]\n"
     ]
    },
    {
     "output_type": "stream",
     "name": "stdout",
     "text": [
      "Epoch 70:\n",
      "Train Loss: 1.0916208317785552\n",
      "Validation Accuracy: 0.22953926026821136\n"
     ]
    },
    {
     "output_type": "stream",
     "name": "stderr",
     "text": [
      "100%|██████████| 99/99 [00:03<00:00, 30.57it/s]\n"
     ]
    },
    {
     "output_type": "stream",
     "name": "stdout",
     "text": [
      "Epoch 71:\n",
      "Train Loss: 1.0904735272580928\n",
      "Validation Accuracy: 0.22823943197727203\n"
     ]
    },
    {
     "output_type": "stream",
     "name": "stderr",
     "text": [
      "100%|██████████| 99/99 [00:03<00:00, 30.03it/s]\n"
     ]
    },
    {
     "output_type": "stream",
     "name": "stdout",
     "text": [
      "Epoch 72:\n",
      "Train Loss: 1.0901502214296899\n",
      "Validation Accuracy: 0.22727973759174347\n"
     ]
    },
    {
     "output_type": "stream",
     "name": "stderr",
     "text": [
      "100%|██████████| 99/99 [00:04<00:00, 23.85it/s]\n"
     ]
    },
    {
     "output_type": "stream",
     "name": "stdout",
     "text": [
      "Epoch 73:\n",
      "Train Loss: 1.089928640861704\n",
      "Validation Accuracy: 0.22810915112495422\n"
     ]
    },
    {
     "output_type": "stream",
     "name": "stderr",
     "text": [
      "100%|██████████| 99/99 [00:03<00:00, 30.26it/s]\n"
     ]
    },
    {
     "output_type": "stream",
     "name": "stdout",
     "text": [
      "Epoch 74:\n",
      "Train Loss: 1.0882488398840933\n",
      "Validation Accuracy: 0.22825059294700623\n"
     ]
    },
    {
     "output_type": "stream",
     "name": "stderr",
     "text": [
      "100%|██████████| 99/99 [00:03<00:00, 28.11it/s]\n"
     ]
    },
    {
     "output_type": "stream",
     "name": "stdout",
     "text": [
      "Epoch 75:\n",
      "Train Loss: 1.0863655221582664\n",
      "Validation Accuracy: 0.22819101810455322\n"
     ]
    },
    {
     "output_type": "stream",
     "name": "stderr",
     "text": [
      "100%|██████████| 99/99 [00:04<00:00, 23.47it/s]\n"
     ]
    },
    {
     "output_type": "stream",
     "name": "stdout",
     "text": [
      "Epoch 76:\n",
      "Train Loss: 1.0874851996248418\n",
      "Validation Accuracy: 0.22637954354286194\n"
     ]
    },
    {
     "output_type": "stream",
     "name": "stderr",
     "text": [
      "100%|██████████| 99/99 [00:04<00:00, 22.02it/s]\n"
     ]
    },
    {
     "output_type": "stream",
     "name": "stdout",
     "text": [
      "Epoch 77:\n",
      "Train Loss: 1.085459266046081\n",
      "Validation Accuracy: 0.22616703808307648\n"
     ]
    },
    {
     "output_type": "stream",
     "name": "stderr",
     "text": [
      "100%|██████████| 99/99 [00:04<00:00, 24.51it/s]\n"
     ]
    },
    {
     "output_type": "stream",
     "name": "stdout",
     "text": [
      "Epoch 78:\n",
      "Train Loss: 1.0856100507456847\n",
      "Validation Accuracy: 0.22689604759216309\n"
     ]
    },
    {
     "output_type": "stream",
     "name": "stderr",
     "text": [
      "100%|██████████| 99/99 [00:04<00:00, 22.45it/s]\n"
     ]
    },
    {
     "output_type": "stream",
     "name": "stdout",
     "text": [
      "Epoch 79:\n",
      "Train Loss: 1.0845278116187664\n",
      "Validation Accuracy: 0.22599506378173828\n"
     ]
    },
    {
     "output_type": "stream",
     "name": "stderr",
     "text": [
      "100%|██████████| 99/99 [00:05<00:00, 18.88it/s]\n"
     ]
    },
    {
     "output_type": "stream",
     "name": "stdout",
     "text": [
      "Epoch 80:\n",
      "Train Loss: 1.0839442996063617\n",
      "Validation Accuracy: 0.22576352953910828\n"
     ]
    },
    {
     "output_type": "stream",
     "name": "stderr",
     "text": [
      "100%|██████████| 99/99 [00:05<00:00, 17.87it/s]\n"
     ]
    },
    {
     "output_type": "stream",
     "name": "stdout",
     "text": [
      "Epoch 81:\n",
      "Train Loss: 1.0837992122679045\n",
      "Validation Accuracy: 0.2258036881685257\n"
     ]
    },
    {
     "output_type": "stream",
     "name": "stderr",
     "text": [
      "100%|██████████| 99/99 [00:06<00:00, 16.43it/s]\n"
     ]
    },
    {
     "output_type": "stream",
     "name": "stdout",
     "text": [
      "Epoch 82:\n",
      "Train Loss: 1.083107919404001\n",
      "Validation Accuracy: 0.2255055457353592\n"
     ]
    },
    {
     "output_type": "stream",
     "name": "stderr",
     "text": [
      "100%|██████████| 99/99 [00:04<00:00, 23.53it/s]\n"
     ]
    },
    {
     "output_type": "stream",
     "name": "stdout",
     "text": [
      "Epoch 83:\n",
      "Train Loss: 1.0818145118578515\n",
      "Validation Accuracy: 0.22478808462619781\n"
     ]
    },
    {
     "output_type": "stream",
     "name": "stderr",
     "text": [
      "100%|██████████| 99/99 [00:04<00:00, 23.97it/s]\n"
     ]
    },
    {
     "output_type": "stream",
     "name": "stdout",
     "text": [
      "Epoch 84:\n",
      "Train Loss: 1.0817112392849393\n",
      "Validation Accuracy: 0.22516310214996338\n"
     ]
    },
    {
     "output_type": "stream",
     "name": "stderr",
     "text": [
      "100%|██████████| 99/99 [00:05<00:00, 18.76it/s]\n"
     ]
    },
    {
     "output_type": "stream",
     "name": "stdout",
     "text": [
      "Epoch 85:\n",
      "Train Loss: 1.0807765342972495\n",
      "Validation Accuracy: 0.22576765716075897\n"
     ]
    },
    {
     "output_type": "stream",
     "name": "stderr",
     "text": [
      "100%|██████████| 99/99 [00:04<00:00, 24.10it/s]\n"
     ]
    },
    {
     "output_type": "stream",
     "name": "stdout",
     "text": [
      "Epoch 86:\n",
      "Train Loss: 1.0801555893637917\n",
      "Validation Accuracy: 0.2269175797700882\n"
     ]
    },
    {
     "output_type": "stream",
     "name": "stderr",
     "text": [
      "100%|██████████| 99/99 [00:04<00:00, 24.01it/s]\n"
     ]
    },
    {
     "output_type": "stream",
     "name": "stdout",
     "text": [
      "Epoch 87:\n",
      "Train Loss: 1.0802790209500477\n",
      "Validation Accuracy: 0.2254527062177658\n"
     ]
    },
    {
     "output_type": "stream",
     "name": "stderr",
     "text": [
      "100%|██████████| 99/99 [00:04<00:00, 20.82it/s]\n"
     ]
    },
    {
     "output_type": "stream",
     "name": "stdout",
     "text": [
      "Epoch 88:\n",
      "Train Loss: 1.078503071057676\n",
      "Validation Accuracy: 0.22492463886737823\n"
     ]
    },
    {
     "output_type": "stream",
     "name": "stderr",
     "text": [
      "100%|██████████| 99/99 [00:04<00:00, 24.03it/s]\n"
     ]
    },
    {
     "output_type": "stream",
     "name": "stdout",
     "text": [
      "Epoch 89:\n",
      "Train Loss: 1.0785494049390156\n",
      "Validation Accuracy: 0.22751742601394653\n"
     ]
    },
    {
     "output_type": "stream",
     "name": "stderr",
     "text": [
      "100%|██████████| 99/99 [00:04<00:00, 21.66it/s]\n"
     ]
    },
    {
     "output_type": "stream",
     "name": "stdout",
     "text": [
      "Epoch 90:\n",
      "Train Loss: 1.0772618350356515\n",
      "Validation Accuracy: 0.22614510357379913\n"
     ]
    },
    {
     "output_type": "stream",
     "name": "stderr",
     "text": [
      "100%|██████████| 99/99 [00:05<00:00, 18.63it/s]\n"
     ]
    },
    {
     "output_type": "stream",
     "name": "stdout",
     "text": [
      "Epoch 91:\n",
      "Train Loss: 1.0784266205749127\n",
      "Validation Accuracy: 0.22422590851783752\n"
     ]
    },
    {
     "output_type": "stream",
     "name": "stderr",
     "text": [
      "100%|██████████| 99/99 [00:04<00:00, 22.89it/s]\n"
     ]
    },
    {
     "output_type": "stream",
     "name": "stdout",
     "text": [
      "Epoch 92:\n",
      "Train Loss: 1.0781540973017913\n",
      "Validation Accuracy: 0.2255629301071167\n"
     ]
    },
    {
     "output_type": "stream",
     "name": "stderr",
     "text": [
      "100%|██████████| 99/99 [00:05<00:00, 19.53it/s]\n"
     ]
    },
    {
     "output_type": "stream",
     "name": "stdout",
     "text": [
      "Epoch 93:\n",
      "Train Loss: 1.0742821097373962\n",
      "Validation Accuracy: 0.22504281997680664\n"
     ]
    },
    {
     "output_type": "stream",
     "name": "stderr",
     "text": [
      "100%|██████████| 99/99 [00:04<00:00, 20.37it/s]\n"
     ]
    },
    {
     "output_type": "stream",
     "name": "stdout",
     "text": [
      "Epoch 94:\n",
      "Train Loss: 1.0750915522527213\n",
      "Validation Accuracy: 0.22516170144081116\n"
     ]
    },
    {
     "output_type": "stream",
     "name": "stderr",
     "text": [
      "100%|██████████| 99/99 [00:04<00:00, 22.46it/s]\n"
     ]
    },
    {
     "output_type": "stream",
     "name": "stdout",
     "text": [
      "Epoch 95:\n",
      "Train Loss: 1.0751801596747503\n",
      "Validation Accuracy: 0.2254915088415146\n"
     ]
    },
    {
     "output_type": "stream",
     "name": "stderr",
     "text": [
      "100%|██████████| 99/99 [00:05<00:00, 18.14it/s]\n"
     ]
    },
    {
     "output_type": "stream",
     "name": "stdout",
     "text": [
      "Epoch 96:\n",
      "Train Loss: 1.076656612482938\n",
      "Validation Accuracy: 0.22616040706634521\n"
     ]
    },
    {
     "output_type": "stream",
     "name": "stderr",
     "text": [
      "100%|██████████| 99/99 [00:05<00:00, 19.01it/s]\n"
     ]
    },
    {
     "output_type": "stream",
     "name": "stdout",
     "text": [
      "Epoch 97:\n",
      "Train Loss: 1.0748549651617956\n",
      "Validation Accuracy: 0.2248421311378479\n"
     ]
    },
    {
     "output_type": "stream",
     "name": "stderr",
     "text": [
      "100%|██████████| 99/99 [00:04<00:00, 22.52it/s]\n"
     ]
    },
    {
     "output_type": "stream",
     "name": "stdout",
     "text": [
      "Epoch 98:\n",
      "Train Loss: 1.0742723098909013\n",
      "Validation Accuracy: 0.22758829593658447\n"
     ]
    },
    {
     "output_type": "stream",
     "name": "stderr",
     "text": [
      "100%|██████████| 99/99 [00:05<00:00, 18.33it/s]\n"
     ]
    },
    {
     "output_type": "stream",
     "name": "stdout",
     "text": [
      "Epoch 99:\n",
      "Train Loss: 1.0738350574416344\n",
      "Validation Accuracy: 0.22546067833900452\n"
     ]
    }
   ]
  },
  {
   "cell_type": "code",
   "source": [
    "fig, axs = plt.subplots(1, 2, figsize=(12, 5))\n",
    "fig.suptitle(config['model_name'], fontsize=20)\n",
    "fig.tight_layout(w_pad=10.0)\n",
    "\n",
    "axs[0].plot(train_losses, label='Training Losses')\n",
    "axs[0].set_xlabel(\"Epoch\")\n",
    "axs[0].set_ylabel(\"Train Loss\")\n",
    "\n",
    "axs[1].plot(valid_mean_ranks, label='Validation Metrics - Mean Rank')\n",
    "axs[1].set_xlabel(\"Epoch\")\n",
    "axs[1].set_ylabel(\"Mean Rank\")\n",
    "\n",
    "plt.show()"
   ],
   "metadata": {
    "colab": {
     "base_uri": "https://localhost:8080/",
     "height": 531
    },
    "id": "ipfA5kY4pSs9",
    "outputId": "06a46fd8-720d-41dc-a5a3-9e75d0da6e01"
   },
   "execution_count": 43,
   "outputs": [
    {
     "output_type": "display_data",
     "data": {
      "text/plain": [
       "<Figure size 1200x500 with 2 Axes>"
      ],
      "image/png": "[encoded data removed]"
     },
     "metadata": {}
    }
   ]
  },
  {
   "cell_type": "code",
   "source": [],
   "metadata": {
    "id": "suxRp3hzsCqA"
   },
   "execution_count": null,
   "outputs": []
  }
 ]
}